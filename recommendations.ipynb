{
  "nbformat": 4,
  "nbformat_minor": 0,
  "metadata": {
    "colab": {
      "provenance": [],
      "authorship_tag": "ABX9TyOOmf61+LcnqxbHzO8wxum4",
      "include_colab_link": true
    },
    "kernelspec": {
      "name": "python3",
      "display_name": "Python 3"
    },
    "language_info": {
      "name": "python"
    }
  },
  "cells": [
    {
      "cell_type": "markdown",
      "metadata": {
        "id": "view-in-github",
        "colab_type": "text"
      },
      "source": [
        "<a href=\"https://colab.research.google.com/github/RajnishGautam/MovieRecommendation/blob/main/recommendations.ipynb\" target=\"_parent\"><img src=\"https://colab.research.google.com/assets/colab-badge.svg\" alt=\"Open In Colab\"/></a>"
      ]
    },
    {
      "cell_type": "code",
      "execution_count": 3,
      "metadata": {
        "colab": {
          "base_uri": "https://localhost:8080/"
        },
        "id": "SC8o7q1U7D-6",
        "outputId": "99d3e307-455f-4881-ba1d-8167b21e6b5c"
      },
      "outputs": [
        {
          "output_type": "stream",
          "name": "stdout",
          "text": [
            "     Movie_Id                 Name                          Genres\n",
            "1114    10027            unleashed             ['Action', 'Crime']\n",
            "1556      322         mystic river  ['Thriller', 'Crime', 'Drama']\n",
            "1661     9989            antitrust    ['Action', 'Crime', 'Drama']\n",
            "1557       70  million dollar baby                       ['Drama']\n",
            "1657     1947   an unfinished life                       ['Drama']\n"
          ]
        }
      ],
      "source": [
        "import pandas as pd\n",
        "import scipy.sparse as sp\n",
        "from sklearn.feature_extraction.text import CountVectorizer, TfidfVectorizer\n",
        "from sklearn.metrics.pairwise import cosine_similarity\n",
        "\n",
        "def get_data():\n",
        "    movie_data = pd.read_csv('dataset.csv')\n",
        "    movie_data['original_title'] = movie_data['original_title'].str.lower()\n",
        "    return movie_data\n",
        "\n",
        "def combine_data(data):\n",
        "    data_recommend = data.drop(columns=['movie_id', 'original_title','plot'])\n",
        "    data_recommend['combine'] = data_recommend[data_recommend.columns[0:2]].apply(lambda x: ','.join(x.dropna().astype(str)),axis=1)\n",
        "\n",
        "    data_recommend = data_recommend.drop(columns=[ 'cast','genres'])\n",
        "    return data_recommend\n",
        "\n",
        "def transform_data(data_combine, data_plot):\n",
        "    count = CountVectorizer(stop_words='english')\n",
        "    count_matrix = count.fit_transform(data_combine['combine'])\n",
        "\n",
        "    tfidf = TfidfVectorizer(stop_words='english')\n",
        "    tfidf_matrix = tfidf.fit_transform(data_plot['plot'])\n",
        "\n",
        "    combine_sparse = sp.hstack([count_matrix, tfidf_matrix], format='csr')\n",
        "    cosine_sim = cosine_similarity(combine_sparse, combine_sparse)\n",
        "\n",
        "    return cosine_sim\n",
        "\n",
        "def recommend_movies(title, data, combine, transform):\n",
        "    indices = pd.Series(data.index, index = data['original_title'])\n",
        "    index = indices[title]\n",
        "\n",
        "    sim_scores = list(enumerate(transform[index]))\n",
        "    sim_scores = sorted(sim_scores, key=lambda x: x[1], reverse=True)\n",
        "    sim_scores = sim_scores[1:6]\n",
        "\n",
        "    movie_indices = [i[0] for i in sim_scores]\n",
        "\n",
        "    movie_id = data['movie_id'].iloc[movie_indices]\n",
        "    movie_title = data['original_title'].iloc[movie_indices]\n",
        "    movie_genres = data['genres'].iloc[movie_indices]\n",
        "\n",
        "    recommendation_data = pd.DataFrame(columns=['Movie_Id','Name', 'Genres'])\n",
        "\n",
        "    recommendation_data['Movie_Id'] = movie_id\n",
        "    recommendation_data['Name'] = movie_title\n",
        "    recommendation_data['Genres'] = movie_genres\n",
        "\n",
        "    return recommendation_data\n",
        "\n",
        "def main(movie_name):\n",
        "    movie_name = movie_name.lower()\n",
        "\n",
        "    find_movie = get_data()\n",
        "    combine_result = combine_data(find_movie)\n",
        "    transform_result = transform_data(combine_result,find_movie)\n",
        "\n",
        "    if movie_name not in find_movie['original_title'].unique():\n",
        "        return 'Movie not in Database'\n",
        "\n",
        "    else:\n",
        "        recommendations = recommend_movies(movie_name, find_movie, combine_result, transform_result)\n",
        "        return recommendations\n",
        "\n",
        "# Call the main function with the input \"The Shawshank Redemption\"\n",
        "recommendations = main(\"The Shawshank Redemption\")\n",
        "\n",
        "# Print the recommended movies\n",
        "print(recommendations)"
      ]
    }
  ]
}